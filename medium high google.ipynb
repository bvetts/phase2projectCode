{
 "cells": [
  {
   "cell_type": "markdown",
   "id": "infrared-holmes",
   "metadata": {},
   "source": [
    "I really want to get a workign version with only price for comparison on how much the other stuff actually helps"
   ]
  },
  {
   "cell_type": "code",
   "execution_count": 34,
   "id": "decent-fifteen",
   "metadata": {},
   "outputs": [],
   "source": [
    "import requests\n",
    "import json\n",
    "import pandas as pd\n",
    "import numpy as np\n",
    "from pandasql import sqldf\n",
    "pysqldf = lambda q: sqldf(q, globals())\n",
    "np.random.seed(0)\n",
    "from pandas import read_csv\n",
    "import matplotlib.pyplot as plt\n",
    "from sklearn.linear_model import LinearRegression\n",
    "from sklearn.model_selection import train_test_split\n",
    "import seaborn as sns\n",
    "\n",
    "import datetime\n",
    "from sklearn.linear_model import LinearRegression\n",
    "from sklearn.model_selection import train_test_split\n",
    "\n",
    "from pandas import read_csv\n",
    "from pandas import DataFrame\n",
    "from pandas import concat\n",
    "from sklearn.preprocessing import LabelEncoder\n",
    "from sklearn.preprocessing import MinMaxScaler\n",
    "from pandas import read_csv\n",
    "from matplotlib import pyplot\n",
    "from sklearn.metrics import mean_squared_error\n",
    "from keras.models import Sequential\n",
    "from keras.layers import Dense\n",
    "from keras.layers import LSTM\n",
    "from pandas import concat\n",
    "\n",
    "from math import sqrt\n",
    "from numpy import concatenate\n",
    "\n",
    "from keras.layers import Dropout\n",
    "from keras.layers import Dense\n",
    "from sklearn.metrics import mean_squared_error, r2_score, mean_absolute_error"
   ]
  },
  {
   "cell_type": "code",
   "execution_count": 113,
   "id": "announced-webster",
   "metadata": {},
   "outputs": [],
   "source": [
    "teslaDataset = pd.read_csv('google_dataset_2.csv') "
   ]
  },
  {
   "cell_type": "code",
   "execution_count": 114,
   "id": "missing-visit",
   "metadata": {},
   "outputs": [
    {
     "data": {
      "text/html": [
       "<div>\n",
       "<style scoped>\n",
       "    .dataframe tbody tr th:only-of-type {\n",
       "        vertical-align: middle;\n",
       "    }\n",
       "\n",
       "    .dataframe tbody tr th {\n",
       "        vertical-align: top;\n",
       "    }\n",
       "\n",
       "    .dataframe thead th {\n",
       "        text-align: right;\n",
       "    }\n",
       "</style>\n",
       "<table border=\"1\" class=\"dataframe\">\n",
       "  <thead>\n",
       "    <tr style=\"text-align: right;\">\n",
       "      <th></th>\n",
       "      <th>google</th>\n",
       "      <th>change_buy</th>\n",
       "      <th>price_buy</th>\n",
       "      <th>count_buy</th>\n",
       "      <th>change_sale</th>\n",
       "      <th>price_sale</th>\n",
       "      <th>count_sale</th>\n",
       "      <th>sp500</th>\n",
       "    </tr>\n",
       "  </thead>\n",
       "  <tbody>\n",
       "    <tr>\n",
       "      <th>0</th>\n",
       "      <td>1.442496</td>\n",
       "      <td>0.0</td>\n",
       "      <td>0.0</td>\n",
       "      <td>0.0</td>\n",
       "      <td>0.0</td>\n",
       "      <td>0.0</td>\n",
       "      <td>0.0</td>\n",
       "      <td>0.367361</td>\n",
       "    </tr>\n",
       "    <tr>\n",
       "      <th>1</th>\n",
       "      <td>0.633516</td>\n",
       "      <td>0.0</td>\n",
       "      <td>0.0</td>\n",
       "      <td>0.0</td>\n",
       "      <td>0.0</td>\n",
       "      <td>0.0</td>\n",
       "      <td>0.0</td>\n",
       "      <td>0.644049</td>\n",
       "    </tr>\n",
       "    <tr>\n",
       "      <th>2</th>\n",
       "      <td>1.281331</td>\n",
       "      <td>0.0</td>\n",
       "      <td>0.0</td>\n",
       "      <td>0.0</td>\n",
       "      <td>0.0</td>\n",
       "      <td>0.0</td>\n",
       "      <td>0.0</td>\n",
       "      <td>0.417317</td>\n",
       "    </tr>\n",
       "    <tr>\n",
       "      <th>3</th>\n",
       "      <td>0.374597</td>\n",
       "      <td>0.0</td>\n",
       "      <td>0.0</td>\n",
       "      <td>0.0</td>\n",
       "      <td>0.0</td>\n",
       "      <td>0.0</td>\n",
       "      <td>0.0</td>\n",
       "      <td>0.372590</td>\n",
       "    </tr>\n",
       "    <tr>\n",
       "      <th>4</th>\n",
       "      <td>0.074013</td>\n",
       "      <td>0.0</td>\n",
       "      <td>0.0</td>\n",
       "      <td>0.0</td>\n",
       "      <td>0.0</td>\n",
       "      <td>0.0</td>\n",
       "      <td>0.0</td>\n",
       "      <td>0.088731</td>\n",
       "    </tr>\n",
       "    <tr>\n",
       "      <th>...</th>\n",
       "      <td>...</td>\n",
       "      <td>...</td>\n",
       "      <td>...</td>\n",
       "      <td>...</td>\n",
       "      <td>...</td>\n",
       "      <td>...</td>\n",
       "      <td>...</td>\n",
       "      <td>...</td>\n",
       "    </tr>\n",
       "    <tr>\n",
       "      <th>100</th>\n",
       "      <td>0.302326</td>\n",
       "      <td>0.0</td>\n",
       "      <td>0.0</td>\n",
       "      <td>0.0</td>\n",
       "      <td>0.0</td>\n",
       "      <td>0.0</td>\n",
       "      <td>0.0</td>\n",
       "      <td>0.711953</td>\n",
       "    </tr>\n",
       "    <tr>\n",
       "      <th>101</th>\n",
       "      <td>0.911641</td>\n",
       "      <td>0.0</td>\n",
       "      <td>0.0</td>\n",
       "      <td>0.0</td>\n",
       "      <td>0.0</td>\n",
       "      <td>0.0</td>\n",
       "      <td>0.0</td>\n",
       "      <td>1.218188</td>\n",
       "    </tr>\n",
       "    <tr>\n",
       "      <th>102</th>\n",
       "      <td>-0.423587</td>\n",
       "      <td>0.0</td>\n",
       "      <td>0.0</td>\n",
       "      <td>0.0</td>\n",
       "      <td>0.0</td>\n",
       "      <td>0.0</td>\n",
       "      <td>0.0</td>\n",
       "      <td>-0.631359</td>\n",
       "    </tr>\n",
       "    <tr>\n",
       "      <th>103</th>\n",
       "      <td>-2.121898</td>\n",
       "      <td>0.0</td>\n",
       "      <td>0.0</td>\n",
       "      <td>0.0</td>\n",
       "      <td>0.0</td>\n",
       "      <td>0.0</td>\n",
       "      <td>0.0</td>\n",
       "      <td>-1.577600</td>\n",
       "    </tr>\n",
       "    <tr>\n",
       "      <th>104</th>\n",
       "      <td>0.749422</td>\n",
       "      <td>0.0</td>\n",
       "      <td>0.0</td>\n",
       "      <td>0.0</td>\n",
       "      <td>-42.0</td>\n",
       "      <td>2800.2</td>\n",
       "      <td>1.0</td>\n",
       "      <td>0.340448</td>\n",
       "    </tr>\n",
       "  </tbody>\n",
       "</table>\n",
       "<p>105 rows × 8 columns</p>\n",
       "</div>"
      ],
      "text/plain": [
       "       google  change_buy  price_buy  count_buy  change_sale  price_sale  \\\n",
       "0    1.442496         0.0        0.0        0.0          0.0         0.0   \n",
       "1    0.633516         0.0        0.0        0.0          0.0         0.0   \n",
       "2    1.281331         0.0        0.0        0.0          0.0         0.0   \n",
       "3    0.374597         0.0        0.0        0.0          0.0         0.0   \n",
       "4    0.074013         0.0        0.0        0.0          0.0         0.0   \n",
       "..        ...         ...        ...        ...          ...         ...   \n",
       "100  0.302326         0.0        0.0        0.0          0.0         0.0   \n",
       "101  0.911641         0.0        0.0        0.0          0.0         0.0   \n",
       "102 -0.423587         0.0        0.0        0.0          0.0         0.0   \n",
       "103 -2.121898         0.0        0.0        0.0          0.0         0.0   \n",
       "104  0.749422         0.0        0.0        0.0        -42.0      2800.2   \n",
       "\n",
       "     count_sale     sp500  \n",
       "0           0.0  0.367361  \n",
       "1           0.0  0.644049  \n",
       "2           0.0  0.417317  \n",
       "3           0.0  0.372590  \n",
       "4           0.0  0.088731  \n",
       "..          ...       ...  \n",
       "100         0.0  0.711953  \n",
       "101         0.0  1.218188  \n",
       "102         0.0 -0.631359  \n",
       "103         0.0 -1.577600  \n",
       "104         1.0  0.340448  \n",
       "\n",
       "[105 rows x 8 columns]"
      ]
     },
     "execution_count": 114,
     "metadata": {},
     "output_type": "execute_result"
    }
   ],
   "source": [
    "teslaDataset"
   ]
  },
  {
   "cell_type": "markdown",
   "id": "ambient-configuration",
   "metadata": {},
   "source": [
    "there might be something we can do with scaling to improve linear regression, but it also might just be a bust. "
   ]
  },
  {
   "cell_type": "code",
   "execution_count": 136,
   "id": "swiss-penny",
   "metadata": {},
   "outputs": [],
   "source": [
    "#trying a linear regression. data may still be in a terrible form \n",
    "tesla_copy = teslaDataset.copy()\n",
    "tesla_c = tesla_copy[['google', 'sp500']]\n",
    "train = tesla_c .iloc[:80,:]\n",
    "test = tesla_c .iloc[80:,:]"
   ]
  },
  {
   "cell_type": "code",
   "execution_count": null,
   "id": "micro-chase",
   "metadata": {},
   "outputs": [],
   "source": []
  },
  {
   "cell_type": "code",
   "execution_count": 137,
   "id": "impossible-retreat",
   "metadata": {},
   "outputs": [],
   "source": [
    "X_train = train.drop(['google'], axis = 1)\n",
    "y_train = train[[\"google\"]]\n",
    "\n",
    "X_test = test.drop(['google'], axis = 1)\n",
    "y_test = test[[\"google\"]]"
   ]
  },
  {
   "cell_type": "code",
   "execution_count": 138,
   "id": "above-cyprus",
   "metadata": {},
   "outputs": [],
   "source": [
    "reg = LinearRegression().fit(X_train, y_train)\n",
    "train = reg.score(X_train, y_train)\n",
    "test = reg.score(X_test, y_test)#this is R squared"
   ]
  },
  {
   "cell_type": "code",
   "execution_count": 139,
   "id": "looking-publicity",
   "metadata": {},
   "outputs": [
    {
     "name": "stdout",
     "output_type": "stream",
     "text": [
      "train R2: 0.675340731064768\n",
      "test R2: 0.7826927108950984\n"
     ]
    }
   ],
   "source": [
    "print(\"train R2:\", train)\n",
    "print(\"test R2:\", test)\n",
    "#fill na to zero probs to blame. Not enough data???\n"
   ]
  },
  {
   "cell_type": "code",
   "execution_count": 140,
   "id": "ultimate-ancient",
   "metadata": {},
   "outputs": [],
   "source": [
    "y_test = y_test.reset_index(drop=True)"
   ]
  },
  {
   "cell_type": "code",
   "execution_count": 141,
   "id": "burning-morocco",
   "metadata": {},
   "outputs": [
    {
     "data": {
      "image/png": "[encoded data removed]",
      "text/plain": [
       "<Figure size 432x288 with 1 Axes>"
      ]
     },
     "metadata": {
      "needs_background": "light"
     },
     "output_type": "display_data"
    }
   ],
   "source": [
    "pred = reg.predict(X_test)\n",
    "pyplot.plot(y_test, label='true')\n",
    "pyplot.plot( pred, label='prediction')\n",
    "pyplot.legend()\n",
    "pyplot.show()"
   ]
  },
  {
   "cell_type": "code",
   "execution_count": 142,
   "id": "gothic-bachelor",
   "metadata": {},
   "outputs": [
    {
     "data": {
      "text/plain": [
       "0.9166542616377003"
      ]
     },
     "execution_count": 142,
     "metadata": {},
     "output_type": "execute_result"
    }
   ],
   "source": [
    "sqrt(mean_squared_error(y_test, pred))"
   ]
  },
  {
   "cell_type": "code",
   "execution_count": null,
   "id": "ordered-antenna",
   "metadata": {},
   "outputs": [],
   "source": []
  },
  {
   "cell_type": "code",
   "execution_count": 143,
   "id": "behind-equity",
   "metadata": {},
   "outputs": [],
   "source": [
    "#quick attempt at lstm"
   ]
  },
  {
   "cell_type": "code",
   "execution_count": 144,
   "id": "close-violation",
   "metadata": {},
   "outputs": [
    {
     "data": {
      "text/html": [
       "<div>\n",
       "<style scoped>\n",
       "    .dataframe tbody tr th:only-of-type {\n",
       "        vertical-align: middle;\n",
       "    }\n",
       "\n",
       "    .dataframe tbody tr th {\n",
       "        vertical-align: top;\n",
       "    }\n",
       "\n",
       "    .dataframe thead th {\n",
       "        text-align: right;\n",
       "    }\n",
       "</style>\n",
       "<table border=\"1\" class=\"dataframe\">\n",
       "  <thead>\n",
       "    <tr style=\"text-align: right;\">\n",
       "      <th></th>\n",
       "      <th>google</th>\n",
       "      <th>change_buy</th>\n",
       "      <th>price_buy</th>\n",
       "      <th>count_buy</th>\n",
       "      <th>change_sale</th>\n",
       "      <th>price_sale</th>\n",
       "      <th>count_sale</th>\n",
       "      <th>sp500</th>\n",
       "    </tr>\n",
       "  </thead>\n",
       "  <tbody>\n",
       "    <tr>\n",
       "      <th>0</th>\n",
       "      <td>1.442496</td>\n",
       "      <td>0.0</td>\n",
       "      <td>0.0</td>\n",
       "      <td>0.0</td>\n",
       "      <td>0.0</td>\n",
       "      <td>0.0</td>\n",
       "      <td>0.0</td>\n",
       "      <td>0.367361</td>\n",
       "    </tr>\n",
       "    <tr>\n",
       "      <th>1</th>\n",
       "      <td>0.633516</td>\n",
       "      <td>0.0</td>\n",
       "      <td>0.0</td>\n",
       "      <td>0.0</td>\n",
       "      <td>0.0</td>\n",
       "      <td>0.0</td>\n",
       "      <td>0.0</td>\n",
       "      <td>0.644049</td>\n",
       "    </tr>\n",
       "    <tr>\n",
       "      <th>2</th>\n",
       "      <td>1.281331</td>\n",
       "      <td>0.0</td>\n",
       "      <td>0.0</td>\n",
       "      <td>0.0</td>\n",
       "      <td>0.0</td>\n",
       "      <td>0.0</td>\n",
       "      <td>0.0</td>\n",
       "      <td>0.417317</td>\n",
       "    </tr>\n",
       "    <tr>\n",
       "      <th>3</th>\n",
       "      <td>0.374597</td>\n",
       "      <td>0.0</td>\n",
       "      <td>0.0</td>\n",
       "      <td>0.0</td>\n",
       "      <td>0.0</td>\n",
       "      <td>0.0</td>\n",
       "      <td>0.0</td>\n",
       "      <td>0.372590</td>\n",
       "    </tr>\n",
       "    <tr>\n",
       "      <th>4</th>\n",
       "      <td>0.074013</td>\n",
       "      <td>0.0</td>\n",
       "      <td>0.0</td>\n",
       "      <td>0.0</td>\n",
       "      <td>0.0</td>\n",
       "      <td>0.0</td>\n",
       "      <td>0.0</td>\n",
       "      <td>0.088731</td>\n",
       "    </tr>\n",
       "    <tr>\n",
       "      <th>...</th>\n",
       "      <td>...</td>\n",
       "      <td>...</td>\n",
       "      <td>...</td>\n",
       "      <td>...</td>\n",
       "      <td>...</td>\n",
       "      <td>...</td>\n",
       "      <td>...</td>\n",
       "      <td>...</td>\n",
       "    </tr>\n",
       "    <tr>\n",
       "      <th>100</th>\n",
       "      <td>0.302326</td>\n",
       "      <td>0.0</td>\n",
       "      <td>0.0</td>\n",
       "      <td>0.0</td>\n",
       "      <td>0.0</td>\n",
       "      <td>0.0</td>\n",
       "      <td>0.0</td>\n",
       "      <td>0.711953</td>\n",
       "    </tr>\n",
       "    <tr>\n",
       "      <th>101</th>\n",
       "      <td>0.911641</td>\n",
       "      <td>0.0</td>\n",
       "      <td>0.0</td>\n",
       "      <td>0.0</td>\n",
       "      <td>0.0</td>\n",
       "      <td>0.0</td>\n",
       "      <td>0.0</td>\n",
       "      <td>1.218188</td>\n",
       "    </tr>\n",
       "    <tr>\n",
       "      <th>102</th>\n",
       "      <td>-0.423587</td>\n",
       "      <td>0.0</td>\n",
       "      <td>0.0</td>\n",
       "      <td>0.0</td>\n",
       "      <td>0.0</td>\n",
       "      <td>0.0</td>\n",
       "      <td>0.0</td>\n",
       "      <td>-0.631359</td>\n",
       "    </tr>\n",
       "    <tr>\n",
       "      <th>103</th>\n",
       "      <td>-2.121898</td>\n",
       "      <td>0.0</td>\n",
       "      <td>0.0</td>\n",
       "      <td>0.0</td>\n",
       "      <td>0.0</td>\n",
       "      <td>0.0</td>\n",
       "      <td>0.0</td>\n",
       "      <td>-1.577600</td>\n",
       "    </tr>\n",
       "    <tr>\n",
       "      <th>104</th>\n",
       "      <td>0.749422</td>\n",
       "      <td>0.0</td>\n",
       "      <td>0.0</td>\n",
       "      <td>0.0</td>\n",
       "      <td>-42.0</td>\n",
       "      <td>2800.2</td>\n",
       "      <td>1.0</td>\n",
       "      <td>0.340448</td>\n",
       "    </tr>\n",
       "  </tbody>\n",
       "</table>\n",
       "<p>105 rows × 8 columns</p>\n",
       "</div>"
      ],
      "text/plain": [
       "       google  change_buy  price_buy  count_buy  change_sale  price_sale  \\\n",
       "0    1.442496         0.0        0.0        0.0          0.0         0.0   \n",
       "1    0.633516         0.0        0.0        0.0          0.0         0.0   \n",
       "2    1.281331         0.0        0.0        0.0          0.0         0.0   \n",
       "3    0.374597         0.0        0.0        0.0          0.0         0.0   \n",
       "4    0.074013         0.0        0.0        0.0          0.0         0.0   \n",
       "..        ...         ...        ...        ...          ...         ...   \n",
       "100  0.302326         0.0        0.0        0.0          0.0         0.0   \n",
       "101  0.911641         0.0        0.0        0.0          0.0         0.0   \n",
       "102 -0.423587         0.0        0.0        0.0          0.0         0.0   \n",
       "103 -2.121898         0.0        0.0        0.0          0.0         0.0   \n",
       "104  0.749422         0.0        0.0        0.0        -42.0      2800.2   \n",
       "\n",
       "     count_sale     sp500  \n",
       "0           0.0  0.367361  \n",
       "1           0.0  0.644049  \n",
       "2           0.0  0.417317  \n",
       "3           0.0  0.372590  \n",
       "4           0.0  0.088731  \n",
       "..          ...       ...  \n",
       "100         0.0  0.711953  \n",
       "101         0.0  1.218188  \n",
       "102         0.0 -0.631359  \n",
       "103         0.0 -1.577600  \n",
       "104         1.0  0.340448  \n",
       "\n",
       "[105 rows x 8 columns]"
      ]
     },
     "execution_count": 144,
     "metadata": {},
     "output_type": "execute_result"
    }
   ],
   "source": [
    "tesla_copy"
   ]
  },
  {
   "cell_type": "code",
   "execution_count": 103,
   "id": "light-psychiatry",
   "metadata": {},
   "outputs": [],
   "source": []
  },
  {
   "cell_type": "code",
   "execution_count": null,
   "id": "anonymous-victoria",
   "metadata": {},
   "outputs": [],
   "source": []
  },
  {
   "cell_type": "code",
   "execution_count": 145,
   "id": "disabled-grounds",
   "metadata": {},
   "outputs": [],
   "source": [
    "#this creates the sequence\n",
    "def series_to_supervised(data, n_in=1, n_out=1, dropnan=True):\n",
    "\tn_vars = 1 if type(data) is list else data.shape[1]\n",
    "\tdf = DataFrame(data)\n",
    "\tcols, names = list(), list()\n",
    "\t# input sequence (t-n, ... t-1)\n",
    "\tfor i in range(n_in, 0, -1):\n",
    "\t\tcols.append(df.shift(i))\n",
    "\t\tnames += [('var%d(t-%d)' % (j+1, i)) for j in range(n_vars)]\n",
    "\t# forecast sequence (t, t+1, ... t+n)\n",
    "\tfor i in range(0, n_out):\n",
    "\t\tcols.append(df.shift(-i))\n",
    "\t\tif i == 0:\n",
    "\t\t\tnames += [('var%d(t)' % (j+1)) for j in range(n_vars)]\n",
    "\t\telse:\n",
    "\t\t\tnames += [('var%d(t+%d)' % (j+1, i)) for j in range(n_vars)]\n",
    "\t# put it all together\n",
    "\tagg = concat(cols, axis=1)\n",
    "\tagg.columns = names\n",
    "\t# drop rows with NaN values\n",
    "\tif dropnan:\n",
    "\t\tagg.dropna(inplace=True)\n",
    "\treturn agg"
   ]
  },
  {
   "cell_type": "code",
   "execution_count": null,
   "id": "convertible-kelly",
   "metadata": {},
   "outputs": [],
   "source": [
    "\n"
   ]
  },
  {
   "cell_type": "code",
   "execution_count": null,
   "id": "early-accreditation",
   "metadata": {},
   "outputs": [],
   "source": []
  },
  {
   "cell_type": "code",
   "execution_count": 147,
   "id": "polar-breathing",
   "metadata": {},
   "outputs": [],
   "source": [
    "tesla_values = tesla_copy.values"
   ]
  },
  {
   "cell_type": "code",
   "execution_count": 148,
   "id": "remarkable-father",
   "metadata": {},
   "outputs": [
    {
     "name": "stdout",
     "output_type": "stream",
     "text": [
      "   var1(t-1)  var2(t-1)  var3(t-1)  var4(t-1)  var5(t-1)  var6(t-1)  \\\n",
      "1   0.048286       -1.0       -1.0       -1.0        1.0       -1.0   \n",
      "2  -0.087667       -1.0       -1.0       -1.0        1.0       -1.0   \n",
      "3   0.021202       -1.0       -1.0       -1.0        1.0       -1.0   \n",
      "4  -0.131179       -1.0       -1.0       -1.0        1.0       -1.0   \n",
      "5  -0.181694       -1.0       -1.0       -1.0        1.0       -1.0   \n",
      "\n",
      "   var7(t-1)  var8(t-1)   var1(t)  var2(t)  var3(t)  var4(t)  var5(t)  \\\n",
      "1       -1.0   0.215699 -0.087667     -1.0     -1.0     -1.0      1.0   \n",
      "2       -1.0   0.315708  0.021202     -1.0     -1.0     -1.0      1.0   \n",
      "3       -1.0   0.233756 -0.131179     -1.0     -1.0     -1.0      1.0   \n",
      "4       -1.0   0.217589 -0.181694     -1.0     -1.0     -1.0      1.0   \n",
      "5       -1.0   0.114988 -0.205726     -1.0     -1.0     -1.0      1.0   \n",
      "\n",
      "   var6(t)  var7(t)   var8(t)  \n",
      "1     -1.0     -1.0  0.315708  \n",
      "2     -1.0     -1.0  0.233756  \n",
      "3     -1.0     -1.0  0.217589  \n",
      "4     -1.0     -1.0  0.114988  \n",
      "5     -1.0     -1.0 -0.043767  \n"
     ]
    }
   ],
   "source": [
    "tesla_values = tesla_values.astype('float32')\n",
    "# normalize features\n",
    "\n",
    "scaler = MinMaxScaler(feature_range=(-1, 1))\n",
    "scaled = scaler.fit_transform(tesla_values)\n",
    "# frame as supervised learning\n",
    "reframed = series_to_supervised(scaled, 1, 1)\n",
    "# drop columns we don't want to predict\n",
    "\n",
    "print(reframed.head())"
   ]
  },
  {
   "cell_type": "code",
   "execution_count": null,
   "id": "alternate-notification",
   "metadata": {},
   "outputs": [],
   "source": []
  },
  {
   "cell_type": "code",
   "execution_count": 149,
   "id": "necessary-occurrence",
   "metadata": {},
   "outputs": [],
   "source": [
    "values = reframed.values"
   ]
  },
  {
   "cell_type": "code",
   "execution_count": 150,
   "id": "boolean-likelihood",
   "metadata": {},
   "outputs": [
    {
     "data": {
      "text/plain": [
       "(104, 16)"
      ]
     },
     "execution_count": 150,
     "metadata": {},
     "output_type": "execute_result"
    }
   ],
   "source": [
    "values.shape\n"
   ]
  },
  {
   "cell_type": "code",
   "execution_count": 156,
   "id": "casual-paris",
   "metadata": {},
   "outputs": [
    {
     "name": "stdout",
     "output_type": "stream",
     "text": [
      "(80, 1, 15) (80,) (24, 1, 15) (24,)\n"
     ]
    }
   ],
   "source": [
    "values = reframed.values\n",
    "n_train_hours = 80\n",
    "train = values[:n_train_hours, :]\n",
    "test = values[n_train_hours:, :]\n",
    "# split into input and outputs\n",
    "train_X, train_y = train[:, :-1], train[:, -1]\n",
    "test_X, test_y = test[:, :-1], test[:, -1]\n",
    "# reshape input to be 3D [samples, timesteps, features]\n",
    "train_X = train_X.reshape((train_X.shape[0], 1, train_X.shape[1]))\n",
    "test_X = test_X.reshape((test_X.shape[0], 1, test_X.shape[1]))\n",
    "print(train_X.shape, train_y.shape, test_X.shape, test_y.shape)"
   ]
  },
  {
   "cell_type": "code",
   "execution_count": null,
   "id": "direct-reconstruction",
   "metadata": {},
   "outputs": [],
   "source": [
    "\n"
   ]
  },
  {
   "cell_type": "code",
   "execution_count": 157,
   "id": "explicit-disposal",
   "metadata": {},
   "outputs": [
    {
     "name": "stdout",
     "output_type": "stream",
     "text": [
      "Epoch 1/60\n",
      "6/6 - 9s - loss: 0.1705 - val_loss: 0.2705 - 9s/epoch - 2s/step\n",
      "Epoch 2/60\n",
      "6/6 - 0s - loss: 0.1692 - val_loss: 0.2670 - 68ms/epoch - 11ms/step\n",
      "Epoch 3/60\n",
      "6/6 - 0s - loss: 0.1684 - val_loss: 0.2643 - 69ms/epoch - 11ms/step\n",
      "Epoch 4/60\n",
      "6/6 - 0s - loss: 0.1680 - val_loss: 0.2622 - 63ms/epoch - 11ms/step\n",
      "Epoch 5/60\n",
      "6/6 - 0s - loss: 0.1679 - val_loss: 0.2609 - 56ms/epoch - 9ms/step\n",
      "Epoch 6/60\n",
      "6/6 - 0s - loss: 0.1679 - val_loss: 0.2603 - 57ms/epoch - 9ms/step\n",
      "Epoch 7/60\n",
      "6/6 - 0s - loss: 0.1679 - val_loss: 0.2601 - 50ms/epoch - 8ms/step\n",
      "Epoch 8/60\n",
      "6/6 - 0s - loss: 0.1679 - val_loss: 0.2602 - 56ms/epoch - 9ms/step\n",
      "Epoch 9/60\n",
      "6/6 - 0s - loss: 0.1678 - val_loss: 0.2604 - 55ms/epoch - 9ms/step\n",
      "Epoch 10/60\n",
      "6/6 - 0s - loss: 0.1678 - val_loss: 0.2606 - 61ms/epoch - 10ms/step\n",
      "Epoch 11/60\n",
      "6/6 - 0s - loss: 0.1678 - val_loss: 0.2607 - 56ms/epoch - 9ms/step\n",
      "Epoch 12/60\n",
      "6/6 - 0s - loss: 0.1678 - val_loss: 0.2608 - 53ms/epoch - 9ms/step\n",
      "Epoch 13/60\n",
      "6/6 - 0s - loss: 0.1678 - val_loss: 0.2609 - 55ms/epoch - 9ms/step\n",
      "Epoch 14/60\n",
      "6/6 - 0s - loss: 0.1678 - val_loss: 0.2608 - 53ms/epoch - 9ms/step\n",
      "Epoch 15/60\n",
      "6/6 - 0s - loss: 0.1677 - val_loss: 0.2608 - 59ms/epoch - 10ms/step\n",
      "Epoch 16/60\n",
      "6/6 - 0s - loss: 0.1677 - val_loss: 0.2606 - 52ms/epoch - 9ms/step\n",
      "Epoch 17/60\n",
      "6/6 - 0s - loss: 0.1677 - val_loss: 0.2603 - 55ms/epoch - 9ms/step\n",
      "Epoch 18/60\n",
      "6/6 - 0s - loss: 0.1675 - val_loss: 0.2596 - 68ms/epoch - 11ms/step\n",
      "Epoch 19/60\n",
      "6/6 - 0s - loss: 0.1669 - val_loss: 0.2575 - 66ms/epoch - 11ms/step\n",
      "Epoch 20/60\n",
      "6/6 - 0s - loss: 0.1653 - val_loss: 0.2515 - 61ms/epoch - 10ms/step\n",
      "Epoch 21/60\n",
      "6/6 - 0s - loss: 0.1600 - val_loss: 0.2345 - 66ms/epoch - 11ms/step\n",
      "Epoch 22/60\n",
      "6/6 - 0s - loss: 0.1449 - val_loss: 0.1915 - 67ms/epoch - 11ms/step\n",
      "Epoch 23/60\n",
      "6/6 - 0s - loss: 0.1125 - val_loss: 0.1212 - 71ms/epoch - 12ms/step\n",
      "Epoch 24/60\n",
      "6/6 - 0s - loss: 0.0939 - val_loss: 0.1047 - 69ms/epoch - 11ms/step\n",
      "Epoch 25/60\n",
      "6/6 - 0s - loss: 0.0859 - val_loss: 0.0779 - 65ms/epoch - 11ms/step\n",
      "Epoch 26/60\n",
      "6/6 - 0s - loss: 0.0627 - val_loss: 0.0741 - 67ms/epoch - 11ms/step\n",
      "Epoch 27/60\n",
      "6/6 - 0s - loss: 0.0537 - val_loss: 0.0767 - 61ms/epoch - 10ms/step\n",
      "Epoch 28/60\n",
      "6/6 - 0s - loss: 0.0469 - val_loss: 0.0621 - 64ms/epoch - 11ms/step\n",
      "Epoch 29/60\n",
      "6/6 - 0s - loss: 0.0395 - val_loss: 0.0624 - 61ms/epoch - 10ms/step\n",
      "Epoch 30/60\n",
      "6/6 - 0s - loss: 0.0411 - val_loss: 0.0588 - 61ms/epoch - 10ms/step\n",
      "Epoch 31/60\n",
      "6/6 - 0s - loss: 0.0372 - val_loss: 0.0635 - 66ms/epoch - 11ms/step\n",
      "Epoch 32/60\n",
      "6/6 - 0s - loss: 0.0385 - val_loss: 0.0613 - 65ms/epoch - 11ms/step\n",
      "Epoch 33/60\n",
      "6/6 - 0s - loss: 0.0365 - val_loss: 0.0612 - 68ms/epoch - 11ms/step\n",
      "Epoch 34/60\n",
      "6/6 - 0s - loss: 0.0367 - val_loss: 0.0589 - 72ms/epoch - 12ms/step\n",
      "Epoch 35/60\n",
      "6/6 - 0s - loss: 0.0359 - val_loss: 0.0584 - 70ms/epoch - 12ms/step\n",
      "Epoch 36/60\n",
      "6/6 - 0s - loss: 0.0359 - val_loss: 0.0586 - 73ms/epoch - 12ms/step\n",
      "Epoch 37/60\n",
      "6/6 - 0s - loss: 0.0359 - val_loss: 0.0584 - 72ms/epoch - 12ms/step\n",
      "Epoch 38/60\n",
      "6/6 - 0s - loss: 0.0355 - val_loss: 0.0587 - 70ms/epoch - 12ms/step\n",
      "Epoch 39/60\n",
      "6/6 - 0s - loss: 0.0356 - val_loss: 0.0583 - 67ms/epoch - 11ms/step\n",
      "Epoch 40/60\n",
      "6/6 - 0s - loss: 0.0354 - val_loss: 0.0583 - 72ms/epoch - 12ms/step\n",
      "Epoch 41/60\n",
      "6/6 - 0s - loss: 0.0354 - val_loss: 0.0584 - 68ms/epoch - 11ms/step\n",
      "Epoch 42/60\n",
      "6/6 - 0s - loss: 0.0353 - val_loss: 0.0585 - 66ms/epoch - 11ms/step\n",
      "Epoch 43/60\n",
      "6/6 - 0s - loss: 0.0352 - val_loss: 0.0586 - 71ms/epoch - 12ms/step\n",
      "Epoch 44/60\n",
      "6/6 - 0s - loss: 0.0351 - val_loss: 0.0585 - 72ms/epoch - 12ms/step\n",
      "Epoch 45/60\n",
      "6/6 - 0s - loss: 0.0350 - val_loss: 0.0586 - 69ms/epoch - 11ms/step\n",
      "Epoch 46/60\n",
      "6/6 - 0s - loss: 0.0349 - val_loss: 0.0585 - 69ms/epoch - 12ms/step\n",
      "Epoch 47/60\n",
      "6/6 - 0s - loss: 0.0348 - val_loss: 0.0585 - 68ms/epoch - 11ms/step\n",
      "Epoch 48/60\n",
      "6/6 - 0s - loss: 0.0348 - val_loss: 0.0585 - 60ms/epoch - 10ms/step\n",
      "Epoch 49/60\n",
      "6/6 - 0s - loss: 0.0347 - val_loss: 0.0585 - 60ms/epoch - 10ms/step\n",
      "Epoch 50/60\n",
      "6/6 - 0s - loss: 0.0346 - val_loss: 0.0585 - 67ms/epoch - 11ms/step\n",
      "Epoch 51/60\n",
      "6/6 - 0s - loss: 0.0345 - val_loss: 0.0584 - 60ms/epoch - 10ms/step\n",
      "Epoch 52/60\n",
      "6/6 - 0s - loss: 0.0345 - val_loss: 0.0584 - 61ms/epoch - 10ms/step\n",
      "Epoch 53/60\n",
      "6/6 - 0s - loss: 0.0344 - val_loss: 0.0583 - 61ms/epoch - 10ms/step\n",
      "Epoch 54/60\n",
      "6/6 - 0s - loss: 0.0343 - val_loss: 0.0583 - 63ms/epoch - 11ms/step\n",
      "Epoch 55/60\n",
      "6/6 - 0s - loss: 0.0342 - val_loss: 0.0583 - 59ms/epoch - 10ms/step\n",
      "Epoch 56/60\n",
      "6/6 - 0s - loss: 0.0342 - val_loss: 0.0582 - 59ms/epoch - 10ms/step\n",
      "Epoch 57/60\n",
      "6/6 - 0s - loss: 0.0341 - val_loss: 0.0582 - 57ms/epoch - 10ms/step\n",
      "Epoch 58/60\n",
      "6/6 - 0s - loss: 0.0340 - val_loss: 0.0581 - 59ms/epoch - 10ms/step\n",
      "Epoch 59/60\n",
      "6/6 - 0s - loss: 0.0339 - val_loss: 0.0581 - 57ms/epoch - 9ms/step\n",
      "Epoch 60/60\n",
      "6/6 - 0s - loss: 0.0339 - val_loss: 0.0580 - 59ms/epoch - 10ms/step\n"
     ]
    },
    {
     "data": {
      "image/png": "[encoded data removed]",
      "text/plain": [
       "<Figure size 432x288 with 1 Axes>"
      ]
     },
     "metadata": {
      "needs_background": "light"
     },
     "output_type": "display_data"
    }
   ],
   "source": [
    "\n",
    "# design network\n",
    "model = Sequential()\n",
    "model.add(LSTM(50, input_shape=(train_X.shape[1], train_X.shape[2]), return_sequences=True))\n",
    "model.add(LSTM(50, return_sequences=True))\n",
    "model.add(LSTM(50, return_sequences=True))\n",
    "model.add(LSTM(50, return_sequences=True))\n",
    "model.add(LSTM(50, return_sequences=True))\n",
    "model.add(LSTM(50, return_sequences=True))\n",
    "\n",
    "model.add(LSTM(50))\n",
    "model.add(Dense(1))\n",
    "model.compile(loss='mean_squared_error', optimizer='adam')\n",
    "# fit network\n",
    "history = model.fit(train_X, train_y, epochs=60, batch_size=15, validation_data=(test_X, test_y), verbose=2, shuffle=False)\n",
    "# plot history\n",
    "pyplot.plot(history.history['loss'], label='train')\n",
    "pyplot.plot(history.history['val_loss'], label='test')\n",
    "pyplot.legend()\n",
    "pyplot.show()"
   ]
  },
  {
   "cell_type": "code",
   "execution_count": 158,
   "id": "ecological-hearing",
   "metadata": {},
   "outputs": [
    {
     "name": "stdout",
     "output_type": "stream",
     "text": [
      "WARNING:tensorflow:6 out of the last 8 calls to <function Model.make_predict_function.<locals>.predict_function at 0x00000233C780B0D8> triggered tf.function retracing. Tracing is expensive and the excessive number of tracings could be due to (1) creating @tf.function repeatedly in a loop, (2) passing tensors with different shapes, (3) passing Python objects instead of tensors. For (1), please define your @tf.function outside of the loop. For (2), @tf.function has experimental_relax_shapes=True option that relaxes argument shapes that can avoid unnecessary retracing. For (3), please refer to https://www.tensorflow.org/guide/function#controlling_retracing and https://www.tensorflow.org/api_docs/python/tf/function for  more details.\n"
     ]
    }
   ],
   "source": [
    "yhat = model.predict(test_X)#y_pred #just cant do this line twice?\n",
    "test_X = test_X.reshape((test_X.shape[0], test_X.shape[2]))"
   ]
  },
  {
   "cell_type": "code",
   "execution_count": 159,
   "id": "removed-emission",
   "metadata": {},
   "outputs": [
    {
     "data": {
      "text/plain": [
       "0.8038507948438804"
      ]
     },
     "execution_count": 159,
     "metadata": {},
     "output_type": "execute_result"
    }
   ],
   "source": [
    "#train \n",
    "y_train_pred = model.predict(train_X)#y_pred #just cant do this line twice?\n",
    "train_X = train_X.reshape((train_X.shape[0], train_X.shape[2]))\n",
    "r2_score(train_y, y_train_pred )"
   ]
  },
  {
   "cell_type": "code",
   "execution_count": 160,
   "id": "buried-growth",
   "metadata": {},
   "outputs": [
    {
     "data": {
      "text/plain": [
       "0.7724480232850816"
      ]
     },
     "execution_count": 160,
     "metadata": {},
     "output_type": "execute_result"
    }
   ],
   "source": [
    "#test\n",
    "r2_score(test_y, yhat)\n"
   ]
  },
  {
   "cell_type": "code",
   "execution_count": 161,
   "id": "alternate-kelly",
   "metadata": {},
   "outputs": [
    {
     "data": {
      "text/plain": [
       "0.2408342006295393"
      ]
     },
     "execution_count": 161,
     "metadata": {},
     "output_type": "execute_result"
    }
   ],
   "source": [
    "#rmse\n",
    "sqrt(mean_squared_error(test_y, yhat))"
   ]
  },
  {
   "cell_type": "code",
   "execution_count": 162,
   "id": "aware-palestine",
   "metadata": {},
   "outputs": [],
   "source": [
    "# invert scaling for forecast\n",
    "inv_yhat = concatenate((yhat, test_X[:, 1:8]), axis=1)\n",
    "#inv_yhat = scaler.inverse_transform(inv_yhat)\n",
    "#inv_yhat = inv_yhat[:,0]\n"
   ]
  },
  {
   "cell_type": "code",
   "execution_count": 163,
   "id": "caring-mandate",
   "metadata": {},
   "outputs": [],
   "source": [
    "inv_yhat = scaler.inverse_transform(inv_yhat)\n",
    "inv_yhat = inv_yhat[:,0]"
   ]
  },
  {
   "cell_type": "code",
   "execution_count": 164,
   "id": "intensive-leonard",
   "metadata": {},
   "outputs": [],
   "source": [
    "# invert scaling for actual\n",
    "test_y = test_y.reshape((len(test_y), 1))\n",
    "inv_y = concatenate((test_y, test_X[:, 1:8]), axis=1)\n",
    "inv_y = scaler.inverse_transform(inv_y)\n",
    "inv_y = inv_y[:,0]"
   ]
  },
  {
   "cell_type": "code",
   "execution_count": 165,
   "id": "pressing-marijuana",
   "metadata": {},
   "outputs": [
    {
     "name": "stdout",
     "output_type": "stream",
     "text": [
      "Test RMSE: 1.433\n"
     ]
    }
   ],
   "source": [
    "# calculate RMSE\n",
    "rmse = sqrt(mean_squared_error(inv_y, inv_yhat))\n",
    "print('Test RMSE: %.3f' % rmse)"
   ]
  },
  {
   "cell_type": "code",
   "execution_count": 166,
   "id": "improved-gilbert",
   "metadata": {},
   "outputs": [
    {
     "data": {
      "text/plain": [
       "0.7724480180921053"
      ]
     },
     "execution_count": 166,
     "metadata": {},
     "output_type": "execute_result"
    }
   ],
   "source": [
    "r2_score(inv_y,inv_yhat)"
   ]
  },
  {
   "cell_type": "code",
   "execution_count": 167,
   "id": "adopted-logan",
   "metadata": {},
   "outputs": [
    {
     "data": {
      "image/png": "[encoded data removed]",
      "text/plain": [
       "<Figure size 432x288 with 1 Axes>"
      ]
     },
     "metadata": {
      "needs_background": "light"
     },
     "output_type": "display_data"
    }
   ],
   "source": [
    "pyplot.plot(inv_y, label='true')\n",
    "pyplot.plot(inv_yhat, label='prediction')\n",
    "pyplot.legend()\n",
    "pyplot.show()"
   ]
  },
  {
   "cell_type": "code",
   "execution_count": null,
   "id": "seventh-population",
   "metadata": {},
   "outputs": [],
   "source": []
  },
  {
   "cell_type": "code",
   "execution_count": null,
   "id": "molecular-cement",
   "metadata": {},
   "outputs": [],
   "source": []
  },
  {
   "cell_type": "code",
   "execution_count": 168,
   "id": "racial-colonial",
   "metadata": {},
   "outputs": [
    {
     "name": "stdout",
     "output_type": "stream",
     "text": [
      "   var1(t-1)  var2(t-1)   var1(t)   var2(t)\n",
      "1   0.048286   0.215699 -0.087667  0.315708\n",
      "2  -0.087667   0.315708  0.021202  0.233756\n",
      "3   0.021202   0.233756 -0.131179  0.217589\n",
      "4  -0.131179   0.217589 -0.181694  0.114988\n",
      "5  -0.181694   0.114988 -0.205726 -0.043767\n"
     ]
    }
   ],
   "source": [
    "tesla_values = tesla_copy[['google', 'sp500' ]].values # , 'sp500' ,'count_buy', 'count_sale'\n",
    "\n",
    "tesla_values = tesla_values.astype('float32')\n",
    "# normalize features\n",
    "#tesla_values = tesla_values.reshape(-1, 1)\n",
    "\n",
    "scaler = MinMaxScaler(feature_range=(-1, 1))\n",
    "scaled = scaler.fit_transform(tesla_values)\n",
    "# frame as supervised learning\n",
    "reframed = series_to_supervised(scaled, 1, 1)\n",
    "# drop columns we don't want to predict\n",
    "\n",
    "print(reframed.head())"
   ]
  },
  {
   "cell_type": "code",
   "execution_count": 173,
   "id": "fatal-tenant",
   "metadata": {},
   "outputs": [
    {
     "name": "stdout",
     "output_type": "stream",
     "text": [
      "(80, 1, 3) (80,) (24, 1, 3) (24,)\n"
     ]
    }
   ],
   "source": [
    "values = reframed.values\n",
    "n_train_hours = 80\n",
    "train = values[:n_train_hours, :]\n",
    "test = values[n_train_hours:, :]\n",
    "# split into input and outputs\n",
    "train_X, train_y = train[:, :-1], train[:, -1]\n",
    "test_X, test_y = test[:, :-1], test[:, -1]\n",
    "# reshape input to be 3D [samples, timesteps, features]\n",
    "train_X = train_X.reshape((train_X.shape[0], 1, train_X.shape[1]))\n",
    "test_X = test_X.reshape((test_X.shape[0], 1, test_X.shape[1]))\n",
    "print(train_X.shape, train_y.shape, test_X.shape, test_y.shape)"
   ]
  },
  {
   "cell_type": "code",
   "execution_count": 174,
   "id": "optimum-coverage",
   "metadata": {},
   "outputs": [
    {
     "name": "stdout",
     "output_type": "stream",
     "text": [
      "Epoch 1/60\n",
      "6/6 - 7s - loss: 0.1705 - val_loss: 0.2701 - 7s/epoch - 1s/step\n",
      "Epoch 2/60\n",
      "6/6 - 0s - loss: 0.1691 - val_loss: 0.2664 - 55ms/epoch - 9ms/step\n",
      "Epoch 3/60\n",
      "6/6 - 0s - loss: 0.1682 - val_loss: 0.2635 - 51ms/epoch - 9ms/step\n",
      "Epoch 4/60\n",
      "6/6 - 0s - loss: 0.1678 - val_loss: 0.2613 - 56ms/epoch - 9ms/step\n",
      "Epoch 5/60\n",
      "6/6 - 0s - loss: 0.1677 - val_loss: 0.2599 - 63ms/epoch - 10ms/step\n",
      "Epoch 6/60\n",
      "6/6 - 0s - loss: 0.1675 - val_loss: 0.2588 - 62ms/epoch - 10ms/step\n",
      "Epoch 7/60\n",
      "6/6 - 0s - loss: 0.1671 - val_loss: 0.2577 - 47ms/epoch - 8ms/step\n",
      "Epoch 8/60\n",
      "6/6 - 0s - loss: 0.1662 - val_loss: 0.2557 - 57ms/epoch - 9ms/step\n",
      "Epoch 9/60\n",
      "6/6 - 0s - loss: 0.1642 - val_loss: 0.2513 - 54ms/epoch - 9ms/step\n",
      "Epoch 10/60\n",
      "6/6 - 0s - loss: 0.1598 - val_loss: 0.2418 - 51ms/epoch - 8ms/step\n",
      "Epoch 11/60\n",
      "6/6 - 0s - loss: 0.1506 - val_loss: 0.2220 - 53ms/epoch - 9ms/step\n",
      "Epoch 12/60\n",
      "6/6 - 0s - loss: 0.1327 - val_loss: 0.1854 - 51ms/epoch - 8ms/step\n",
      "Epoch 13/60\n",
      "6/6 - 0s - loss: 0.1042 - val_loss: 0.1299 - 79ms/epoch - 13ms/step\n",
      "Epoch 14/60\n",
      "6/6 - 0s - loss: 0.0726 - val_loss: 0.0783 - 81ms/epoch - 14ms/step\n",
      "Epoch 15/60\n",
      "6/6 - 0s - loss: 0.0588 - val_loss: 0.0601 - 114ms/epoch - 19ms/step\n",
      "Epoch 16/60\n",
      "6/6 - 0s - loss: 0.0550 - val_loss: 0.0530 - 121ms/epoch - 20ms/step\n",
      "Epoch 17/60\n",
      "6/6 - 0s - loss: 0.0480 - val_loss: 0.0531 - 72ms/epoch - 12ms/step\n",
      "Epoch 18/60\n",
      "6/6 - 0s - loss: 0.0454 - val_loss: 0.0567 - 75ms/epoch - 12ms/step\n",
      "Epoch 19/60\n",
      "6/6 - 0s - loss: 0.0452 - val_loss: 0.0577 - 56ms/epoch - 9ms/step\n",
      "Epoch 20/60\n",
      "6/6 - 0s - loss: 0.0452 - val_loss: 0.0567 - 78ms/epoch - 13ms/step\n",
      "Epoch 21/60\n",
      "6/6 - 0s - loss: 0.0452 - val_loss: 0.0558 - 58ms/epoch - 10ms/step\n",
      "Epoch 22/60\n",
      "6/6 - 0s - loss: 0.0454 - val_loss: 0.0557 - 45ms/epoch - 7ms/step\n",
      "Epoch 23/60\n",
      "6/6 - 0s - loss: 0.0455 - val_loss: 0.0559 - 47ms/epoch - 8ms/step\n",
      "Epoch 24/60\n",
      "6/6 - 0s - loss: 0.0454 - val_loss: 0.0562 - 50ms/epoch - 8ms/step\n",
      "Epoch 25/60\n",
      "6/6 - 0s - loss: 0.0452 - val_loss: 0.0563 - 52ms/epoch - 9ms/step\n",
      "Epoch 26/60\n",
      "6/6 - 0s - loss: 0.0451 - val_loss: 0.0561 - 61ms/epoch - 10ms/step\n",
      "Epoch 27/60\n",
      "6/6 - 0s - loss: 0.0450 - val_loss: 0.0558 - 67ms/epoch - 11ms/step\n",
      "Epoch 28/60\n",
      "6/6 - 0s - loss: 0.0449 - val_loss: 0.0554 - 72ms/epoch - 12ms/step\n",
      "Epoch 29/60\n",
      "6/6 - 0s - loss: 0.0448 - val_loss: 0.0552 - 67ms/epoch - 11ms/step\n",
      "Epoch 30/60\n",
      "6/6 - 0s - loss: 0.0448 - val_loss: 0.0551 - 62ms/epoch - 10ms/step\n",
      "Epoch 31/60\n",
      "6/6 - 0s - loss: 0.0447 - val_loss: 0.0551 - 52ms/epoch - 9ms/step\n",
      "Epoch 32/60\n",
      "6/6 - 0s - loss: 0.0446 - val_loss: 0.0550 - 50ms/epoch - 8ms/step\n",
      "Epoch 33/60\n",
      "6/6 - 0s - loss: 0.0445 - val_loss: 0.0550 - 52ms/epoch - 9ms/step\n",
      "Epoch 34/60\n",
      "6/6 - 0s - loss: 0.0444 - val_loss: 0.0549 - 63ms/epoch - 10ms/step\n",
      "Epoch 35/60\n",
      "6/6 - 0s - loss: 0.0443 - val_loss: 0.0548 - 63ms/epoch - 10ms/step\n",
      "Epoch 36/60\n",
      "6/6 - 0s - loss: 0.0442 - val_loss: 0.0547 - 64ms/epoch - 11ms/step\n",
      "Epoch 37/60\n",
      "6/6 - 0s - loss: 0.0441 - val_loss: 0.0546 - 79ms/epoch - 13ms/step\n",
      "Epoch 38/60\n",
      "6/6 - 0s - loss: 0.0440 - val_loss: 0.0546 - 67ms/epoch - 11ms/step\n",
      "Epoch 39/60\n",
      "6/6 - 0s - loss: 0.0439 - val_loss: 0.0545 - 71ms/epoch - 12ms/step\n",
      "Epoch 40/60\n",
      "6/6 - 0s - loss: 0.0438 - val_loss: 0.0544 - 52ms/epoch - 9ms/step\n",
      "Epoch 41/60\n",
      "6/6 - 0s - loss: 0.0437 - val_loss: 0.0543 - 47ms/epoch - 8ms/step\n",
      "Epoch 42/60\n",
      "6/6 - 0s - loss: 0.0436 - val_loss: 0.0542 - 52ms/epoch - 9ms/step\n",
      "Epoch 43/60\n",
      "6/6 - 0s - loss: 0.0435 - val_loss: 0.0542 - 52ms/epoch - 9ms/step\n",
      "Epoch 44/60\n",
      "6/6 - 0s - loss: 0.0434 - val_loss: 0.0541 - 52ms/epoch - 9ms/step\n",
      "Epoch 45/60\n",
      "6/6 - 0s - loss: 0.0433 - val_loss: 0.0540 - 56ms/epoch - 9ms/step\n",
      "Epoch 46/60\n",
      "6/6 - 0s - loss: 0.0431 - val_loss: 0.0539 - 63ms/epoch - 10ms/step\n",
      "Epoch 47/60\n",
      "6/6 - 0s - loss: 0.0430 - val_loss: 0.0538 - 61ms/epoch - 10ms/step\n",
      "Epoch 48/60\n",
      "6/6 - 0s - loss: 0.0429 - val_loss: 0.0538 - 60ms/epoch - 10ms/step\n",
      "Epoch 49/60\n",
      "6/6 - 0s - loss: 0.0427 - val_loss: 0.0537 - 64ms/epoch - 11ms/step\n",
      "Epoch 50/60\n",
      "6/6 - 0s - loss: 0.0426 - val_loss: 0.0536 - 56ms/epoch - 9ms/step\n",
      "Epoch 51/60\n",
      "6/6 - 0s - loss: 0.0424 - val_loss: 0.0535 - 62ms/epoch - 10ms/step\n",
      "Epoch 52/60\n",
      "6/6 - 0s - loss: 0.0423 - val_loss: 0.0535 - 58ms/epoch - 10ms/step\n",
      "Epoch 53/60\n",
      "6/6 - 0s - loss: 0.0421 - val_loss: 0.0534 - 58ms/epoch - 10ms/step\n",
      "Epoch 54/60\n",
      "6/6 - 0s - loss: 0.0420 - val_loss: 0.0534 - 59ms/epoch - 10ms/step\n",
      "Epoch 55/60\n",
      "6/6 - 0s - loss: 0.0418 - val_loss: 0.0533 - 55ms/epoch - 9ms/step\n",
      "Epoch 56/60\n",
      "6/6 - 0s - loss: 0.0416 - val_loss: 0.0533 - 57ms/epoch - 9ms/step\n",
      "Epoch 57/60\n",
      "6/6 - 0s - loss: 0.0415 - val_loss: 0.0532 - 56ms/epoch - 9ms/step\n",
      "Epoch 58/60\n",
      "6/6 - 0s - loss: 0.0413 - val_loss: 0.0532 - 54ms/epoch - 9ms/step\n",
      "Epoch 59/60\n",
      "6/6 - 0s - loss: 0.0411 - val_loss: 0.0532 - 48ms/epoch - 8ms/step\n",
      "Epoch 60/60\n",
      "6/6 - 0s - loss: 0.0409 - val_loss: 0.0532 - 50ms/epoch - 8ms/step\n"
     ]
    },
    {
     "data": {
      "image/png": "[encoded data removed]",
      "text/plain": [
       "<Figure size 432x288 with 1 Axes>"
      ]
     },
     "metadata": {
      "needs_background": "light"
     },
     "output_type": "display_data"
    }
   ],
   "source": [
    "model = Sequential()\n",
    "model.add(LSTM(50, input_shape=(train_X.shape[1], train_X.shape[2]), return_sequences=True))\n",
    "model.add(LSTM(50, return_sequences=True))\n",
    "model.add(LSTM(50, return_sequences=True))\n",
    "model.add(LSTM(50, return_sequences=True))\n",
    "model.add(LSTM(50))\n",
    "model.add(Dense(1))\n",
    "model.compile(loss='mean_squared_error', optimizer='adam')\n",
    "# fit network\n",
    "history = model.fit(train_X, train_y, epochs=60, batch_size=15, validation_data=(test_X, test_y), verbose=2, shuffle=False)\n",
    "# plot history\n",
    "pyplot.plot(history.history['loss'], label='train')\n",
    "pyplot.plot(history.history['val_loss'], label='test')\n",
    "pyplot.legend()\n",
    "pyplot.show()"
   ]
  },
  {
   "cell_type": "code",
   "execution_count": 175,
   "id": "veterinary-fellow",
   "metadata": {},
   "outputs": [],
   "source": [
    "yhat = model.predict(test_X)#y_pred #just cant do this line twice?\n",
    "test_X = test_X.reshape((test_X.shape[0], test_X.shape[2]))\n"
   ]
  },
  {
   "cell_type": "code",
   "execution_count": 176,
   "id": "effective-script",
   "metadata": {},
   "outputs": [
    {
     "data": {
      "text/plain": [
       "0.757808838829932"
      ]
     },
     "execution_count": 176,
     "metadata": {},
     "output_type": "execute_result"
    }
   ],
   "source": [
    "y_train_pred = model.predict(train_X)#y_pred #just cant do this line twice?\n",
    "train_X = train_X.reshape((train_X.shape[0], train_X.shape[2]))\n",
    "r2_score(train_y, y_train_pred )"
   ]
  },
  {
   "cell_type": "code",
   "execution_count": 177,
   "id": "musical-husband",
   "metadata": {},
   "outputs": [
    {
     "data": {
      "text/plain": [
       "0.7911488939614014"
      ]
     },
     "execution_count": 177,
     "metadata": {},
     "output_type": "execute_result"
    }
   ],
   "source": [
    "r2_score(test_y, yhat)"
   ]
  },
  {
   "cell_type": "code",
   "execution_count": 178,
   "id": "enormous-deposit",
   "metadata": {},
   "outputs": [
    {
     "data": {
      "text/plain": [
       "(24,)"
      ]
     },
     "execution_count": 178,
     "metadata": {},
     "output_type": "execute_result"
    }
   ],
   "source": [
    "inv_yhat.shape"
   ]
  },
  {
   "cell_type": "code",
   "execution_count": 179,
   "id": "promotional-glenn",
   "metadata": {},
   "outputs": [],
   "source": [
    "inv_yhat = concatenate((yhat, test_X[:, 1:2]), axis=1)\n",
    "#inv_yhat = scaler.inverse_transform(inv_yhat)\n",
    "#inv_yhat = inv_yhat[:,0]"
   ]
  },
  {
   "cell_type": "code",
   "execution_count": 180,
   "id": "protected-playlist",
   "metadata": {},
   "outputs": [],
   "source": [
    "inv_yhat = scaler.inverse_transform(inv_yhat)\n",
    "inv_yhat = inv_yhat[:,0]"
   ]
  },
  {
   "cell_type": "code",
   "execution_count": 181,
   "id": "stuck-invention",
   "metadata": {},
   "outputs": [],
   "source": [
    "# invert scaling for actual\n",
    "test_y = test_y.reshape((len(test_y), 1))\n",
    "inv_y = concatenate((test_y, test_X[:, 1:2]), axis=1)\n",
    "inv_y = scaler.inverse_transform(inv_y)\n",
    "inv_y = inv_y[:,0]"
   ]
  },
  {
   "cell_type": "code",
   "execution_count": 182,
   "id": "latin-filename",
   "metadata": {},
   "outputs": [
    {
     "name": "stdout",
     "output_type": "stream",
     "text": [
      "Test RMSE: 1.373\n"
     ]
    }
   ],
   "source": [
    "# calculate RMSE\n",
    "rmse = sqrt(mean_squared_error(inv_y, inv_yhat))\n",
    "print('Test RMSE: %.3f' % rmse)"
   ]
  },
  {
   "cell_type": "code",
   "execution_count": 183,
   "id": "recognized-contact",
   "metadata": {},
   "outputs": [
    {
     "data": {
      "text/plain": [
       "0.7911488833940482"
      ]
     },
     "execution_count": 183,
     "metadata": {},
     "output_type": "execute_result"
    }
   ],
   "source": [
    "r2_score(inv_y,inv_yhat)"
   ]
  },
  {
   "cell_type": "code",
   "execution_count": 184,
   "id": "demanding-asset",
   "metadata": {},
   "outputs": [
    {
     "data": {
      "image/png": "[encoded data removed]",
      "text/plain": [
       "<Figure size 432x288 with 1 Axes>"
      ]
     },
     "metadata": {
      "needs_background": "light"
     },
     "output_type": "display_data"
    }
   ],
   "source": [
    "pyplot.plot(inv_y, label='true')\n",
    "pyplot.plot(inv_yhat, label='prediction')\n",
    "pyplot.legend()\n",
    "pyplot.show()"
   ]
  },
  {
   "cell_type": "code",
   "execution_count": null,
   "id": "anticipated-pixel",
   "metadata": {},
   "outputs": [],
   "source": []
  }
 ],
 "metadata": {
  "kernelspec": {
   "display_name": "Python 3",
   "language": "python",
   "name": "python3"
  },
  "language_info": {
   "codemirror_mode": {
    "name": "ipython",
    "version": 3
   },
   "file_extension": ".py",
   "mimetype": "text/x-python",
   "name": "python",
   "nbconvert_exporter": "python",
   "pygments_lexer": "ipython3",
   "version": "3.7.9"
  }
 },
 "nbformat": 4,
 "nbformat_minor": 5
}
